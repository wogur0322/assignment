{
 "cells": [
  {
   "cell_type": "code",
   "execution_count": 2,
   "id": "4b50af16-cf30-43c4-850e-12e8996b4be9",
   "metadata": {},
   "outputs": [
    {
     "name": "stdout",
     "output_type": "stream",
     "text": [
      "[4, 16, 36, 64, 100]\n"
     ]
    }
   ],
   "source": [
    "#map( ) 과 filter( )을 사용하여서 [1, 2, 3, 4, 5, 6, 7, 8, 9, 10] 중에서 짝수의 제곱으로 새로운 리스트를 만드는 Python 코드를 작성해보자.\n",
    "a = [1,2,3,4,5,6,7,8,9,10]\n",
    "a = list(filter(lambda x : x%2 == 0  , a))\n",
    "a = list(map(lambda x : x**2, a))\n",
    "print(a)"
   ]
  },
  {
   "cell_type": "markdown",
   "id": "b0c19f28-dc8a-4068-a7be-00cc047c7d37",
   "metadata": {},
   "source": [
    "문제는 리스트 원소 중 짝수의 제곱의 리스트를 작성하는 것이다.\n",
    " 우선 짝수를 먼저 건져내기 위해 filter 함수를 이용하여 2로 나누었을 때 나머지가 0이 되는 것으로 리스트를 수정\n",
    " 짝수만 건져낸 리스트의 원소 각각을 제곱을 해주기 위해 map함수를 이용하여 변수를 제곱하여 리스트를 수정"
   ]
  },
  {
   "cell_type": "code",
   "execution_count": null,
   "id": "a6562985-e9ce-4ea1-bfef-53aa004951a4",
   "metadata": {},
   "outputs": [],
   "source": [
    "words = [\"knowledge\",\"hardwork\",\"attitude\"]\n",
    "words_length = list(map(len,words))\n",
    "words_length"
   ]
  },
  {
   "cell_type": "markdown",
   "id": "becf3947-ce52-4c6c-82e9-be4e7173f39f",
   "metadata": {},
   "source": [
    "문제는 리스트의 각 문자의 길이로 변환하여 리스트를 작성하는 것이다.\n",
    "각 원소의 문자의 길이를 바꾸기 때문에 map함수를 이용하여 len을 거치면 원소의 길이로 변환하여 리스트를 작성할 수 있다."
   ]
  },
  {
   "cell_type": "markdown",
   "id": "f083a074-2426-490b-993c-7f804253d768",
   "metadata": {},
   "source": [
    "n = int(input(\"\"))    \n",
    "def dec2bin(n):\n",
    "  if n ==0 :\n",
    "    return 0\n",
    "  else:\n",
    "    a = []\n",
    "    while (n//2)!=0:\n",
    "      b = n%2\n",
    "      n = n//2\n",
    "      a.append(b)\n",
    "    a = a[::-1]\n",
    "    a.insert(0,1)\n",
    "    count = 0\n",
    "    for k in range(len(a)):\n",
    "      if a[k] == 1:\n",
    "        count += 1\n",
    "    return count\n",
    "dec2bin(n)"
   ]
  },
  {
   "cell_type": "code",
   "execution_count": null,
   "id": "bbc70ef2-cf82-42a6-be14-a5aa806c3547",
   "metadata": {},
   "outputs": [],
   "source": [
    "수를 입력받아 이진수로 변환 후 이진수의 1의 개수만큼 더한 값을 출력 하는 것이다.\n",
    "1 이상의 자연수를 입력 받았을 때 몫이 0이 되기 전까지 반복하는 whlie문을 사용하였다.\n",
    "이진수로 변환 할때는 자연수를 2로 계속 나누어 주고 몫과 나머지가 생긴다.\n",
    "몫을 2로 나누고 몫이 1이 되기 전까지 계속 나눈다. 나머지는 1 또는 0이 생기는데 1과 나머지의 역순을 이어주면 이진수가 완성이 된다.\n",
    "그래서 a라는 리스트에 b라는 나머지를 추가해준다. n은 몫으로 다시 선언이 되어 1이 되기 전까지 while문을 반복한다.\n",
    "몫이 1이 되주면 이제 1과 나머지의 역순을 이어주면 되는데\n",
    "a라는 리스트를 순서를 거꾸로 바꾸어 준다. 그다음 그 리스트의 첫번째 위치에 1을 붙여준다.\n",
    "이때 이 리스트는 이진수를 구성하는 각 숫자가 그 순서를 유지하며 리스트를 형성한다.\n",
    "이제 1이 얼마나 있는지 확인해주면 된다.\n",
    "우선 1을 세기위해 count=0을 선언해주고 1이 발견될때마다 count에 1을 더해줄 것이다.\n",
    "리스트의 길이만큼 1의 유무를 확인해주기위해 len(a)만큼 반복을 해주는 for문을 이용하여\n",
    "1이 있을때마다 1씩 count를 더해간다.\n",
    "그리고 그 count가 결국 1의 개수이다."
   ]
  }
 ],
 "metadata": {
  "kernelspec": {
   "display_name": "Python 3 (ipykernel)",
   "language": "python",
   "name": "python3"
  },
  "language_info": {
   "codemirror_mode": {
    "name": "ipython",
    "version": 3
   },
   "file_extension": ".py",
   "mimetype": "text/x-python",
   "name": "python",
   "nbconvert_exporter": "python",
   "pygments_lexer": "ipython3",
   "version": "3.11.7"
  }
 },
 "nbformat": 4,
 "nbformat_minor": 5
}
